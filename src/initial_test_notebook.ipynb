{
 "cells": [
  {
   "cell_type": "markdown",
   "metadata": {},
   "source": [
    "# This notebook is to downlod user tweets"
   ]
  },
  {
   "cell_type": "code",
   "execution_count": 73,
   "metadata": {},
   "outputs": [],
   "source": [
    "from twitter import *"
   ]
  },
  {
   "cell_type": "code",
   "execution_count": 74,
   "metadata": {},
   "outputs": [],
   "source": [
    "import pandas as pd\n",
    "import json\n",
    "from os.path import join\n",
    "from time import time\n",
    "from tqdm import tqdm_notebook as tqdm\n",
    "\n",
    "import csv\n",
    "import numpy as np"
   ]
  },
  {
   "cell_type": "code",
   "execution_count": 85,
   "metadata": {},
   "outputs": [],
   "source": [
    "key = \"Xp753Z1aLbulkjsyNcyb5zhD5\"\n",
    "secret = \"nzQOmJaIMzC6HhCkFOl7GOxikIlQrmKW2CPEkAHWQZzu0M69dL\"\n",
    "token=\"796315603959246848-9wEDy2sMEBcQh07NfZ3OwCcvOii6M6D\""
   ]
  },
  {
   "cell_type": "code",
   "execution_count": 86,
   "metadata": {},
   "outputs": [],
   "source": [
    "twitter = Twitter(auth = OAuth(\"796315603959246848-9wEDy2sMEBcQh07NfZ3OwCcvOii6M6D\",\n",
    "                  \"vH7MdLICCc6tJvrjgESbCCpxXOApQ64gqGSajqvtF8YeG\",\n",
    "                  \"Xp753Z1aLbulkjsyNcyb5zhD5\",\n",
    "                  \"nzQOmJaIMzC6HhCkFOl7GOxikIlQrmKW2CPEkAHWQZzu0M69dL\"))"
   ]
  },
  {
   "cell_type": "code",
   "execution_count": 87,
   "metadata": {},
   "outputs": [],
   "source": [
    "user_tweets_map = {}\n",
    "twitter_errors = []\n",
    "total_request_made = 0\n",
    "total_request_limit = 90000"
   ]
  },
  {
   "cell_type": "code",
   "execution_count": 88,
   "metadata": {},
   "outputs": [],
   "source": [
    "def get_all_tweets(user_id, total_request_made):\n",
    "    total_results = []\n",
    "    results = twitter.statuses.user_timeline(user_id = user_id, count = 200)\n",
    "    total_results.extend(results)\n",
    "    if len(results) == 0:\n",
    "        return total_results\n",
    "    \n",
    "    last_id = results[-1]['id']\n",
    "\n",
    "    while last_id != None:\n",
    "        try:\n",
    "            results = twitter.statuses.user_timeline(user_id = user_id, count = 200, max_id = last_id)\n",
    "            total_request_made += 1\n",
    "        except TwitterHTTPError as error:\n",
    "            twitter_errors.append(error)\n",
    "        \n",
    "        if len(results) == 0:\n",
    "            last_id = None\n",
    "        elif last_id == results[-1]['id']:\n",
    "            last_id = None\n",
    "        else:\n",
    "            last_id = results[-1]['id']\n",
    "            total_results.extend(results)\n",
    "    \n",
    "    return total_results"
   ]
  },
  {
   "cell_type": "code",
   "execution_count": 89,
   "metadata": {},
   "outputs": [],
   "source": [
    "genders=['male','female']"
   ]
  },
  {
   "cell_type": "code",
   "execution_count": 90,
   "metadata": {},
   "outputs": [],
   "source": [
    "def get_user_tweets():\n",
    "    t0 = time()\n",
    "    csv_path = \"C:\\\\Users\\\\pvashisth\\\\Desktop\\\\ai_course\\\\testing\\\\data.csv\"\n",
    "    \n",
    "    df = pd.read_csv(csv_path, encoding='latin-1')\n",
    "    \n",
    "    df = df.loc[(df['gender'].isin(genders)) & (df['gender:confidence'] == 1)]\n",
    "    print(df.shape)\n",
    "    \n",
    "    for index, row in tqdm(df.iterrows()):\n",
    "        if total_request_made >= total_request_limit:\n",
    "            print(\"Stopping for today!!!!\")\n",
    "            print(\"Next user to be processed is {}: \".format(row['user_id']))\n",
    "            return\n",
    "        try:\n",
    "            results = get_all_tweets(row['user_id'], total_request_made)\n",
    "        except TwitterHTTPError as error:\n",
    "            twitter_errors.append(error)\n",
    "        \n",
    "        user_tweets_map[row['user_id']] = {\n",
    "            'gender': row['gender'],\n",
    "            'results': results\n",
    "        }\n",
    "    \n",
    "    # save the dict.\n",
    "    with open(join('C:\\\\Users\\\\pvashisth\\\\Desktop\\\\ai_course\\\\testing', 'user_all_tweets_data_part_1'), 'w', encoding='utf-8') as w:\n",
    "        json.dump(user_tweets_map, w)\n",
    "    \n",
    "    print(\"Completed in {}\".format(time() - t0))"
   ]
  },
  {
   "cell_type": "code",
   "execution_count": 91,
   "metadata": {},
   "outputs": [
    {
     "name": "stdout",
     "output_type": "stream",
     "text": [
      "(10020, 26)\n"
     ]
    },
    {
     "data": {
      "application/vnd.jupyter.widget-view+json": {
       "model_id": "a6fb3daf49ea4b55b0aefdceaab7d923",
       "version_major": 2,
       "version_minor": 0
      },
      "text/plain": [
       "HBox(children=(IntProgress(value=1, bar_style='info', max=1), HTML(value='')))"
      ]
     },
     "metadata": {},
     "output_type": "display_data"
    },
    {
     "name": "stdout",
     "output_type": "stream",
     "text": [
      "Completed in 3792.848995447159\n"
     ]
    }
   ],
   "source": [
    "get_user_tweets()"
   ]
  },
  {
   "cell_type": "code",
   "execution_count": null,
   "metadata": {},
   "outputs": [],
   "source": []
  },
  {
   "cell_type": "code",
   "execution_count": 38,
   "metadata": {},
   "outputs": [
    {
     "data": {
      "text/plain": [
       "10020"
      ]
     },
     "execution_count": 38,
     "metadata": {},
     "output_type": "execute_result"
    }
   ],
   "source": [
    "len(user_tweets_map)"
   ]
  },
  {
   "cell_type": "code",
   "execution_count": 39,
   "metadata": {},
   "outputs": [
    {
     "data": {
      "text/plain": [
       "dict"
      ]
     },
     "execution_count": 39,
     "metadata": {},
     "output_type": "execute_result"
    }
   ],
   "source": [
    "type(user_tweets_map)"
   ]
  },
  {
   "cell_type": "code",
   "execution_count": 40,
   "metadata": {},
   "outputs": [],
   "source": [
    "total_tweets = []\n",
    "for utm in user_tweets_map:\n",
    "    total_tweets.append(len(user_tweets_map[utm]['results']))"
   ]
  },
  {
   "cell_type": "code",
   "execution_count": 41,
   "metadata": {},
   "outputs": [
    {
     "data": {
      "text/plain": [
       "10020"
      ]
     },
     "execution_count": 41,
     "metadata": {},
     "output_type": "execute_result"
    }
   ],
   "source": [
    "len(total_tweets)"
   ]
  },
  {
   "cell_type": "code",
   "execution_count": 42,
   "metadata": {},
   "outputs": [
    {
     "data": {
      "text/plain": [
       "(21.567964071856288, 8.0, 53.261729674793735, 0, 200)"
      ]
     },
     "execution_count": 42,
     "metadata": {},
     "output_type": "execute_result"
    }
   ],
   "source": [
    "np.mean(total_tweets), np.median(total_tweets), np.std(total_tweets), np.min(total_tweets), np.max(total_tweets)"
   ]
  },
  {
   "cell_type": "markdown",
   "metadata": {},
   "source": [
    "## Data transformation - creating dataset to train ML model"
   ]
  },
  {
   "cell_type": "code",
   "execution_count": null,
   "metadata": {},
   "outputs": [],
   "source": []
  },
  {
   "cell_type": "code",
   "execution_count": null,
   "metadata": {},
   "outputs": [],
   "source": []
  },
  {
   "cell_type": "code",
   "execution_count": 3,
   "metadata": {},
   "outputs": [],
   "source": [
    "user_tweets_map = {}"
   ]
  },
  {
   "cell_type": "code",
   "execution_count": 4,
   "metadata": {},
   "outputs": [],
   "source": [
    "with open(\"C:\\\\jupyter\\\\user_tweets_data\", 'r') as r:\n",
    "    user_tweets_map = json.loads(r.read())"
   ]
  },
  {
   "cell_type": "code",
   "execution_count": 5,
   "metadata": {},
   "outputs": [
    {
     "data": {
      "text/plain": [
       "10020"
      ]
     },
     "execution_count": 5,
     "metadata": {},
     "output_type": "execute_result"
    }
   ],
   "source": [
    "len(user_tweets_map)"
   ]
  },
  {
   "cell_type": "code",
   "execution_count": 26,
   "metadata": {
    "scrolled": false
   },
   "outputs": [
    {
     "data": {
      "text/plain": [
       "14"
      ]
     },
     "execution_count": 26,
     "metadata": {},
     "output_type": "execute_result"
    }
   ],
   "source": [
    "len(user_tweets_map['815719226']['results'][0]['text'].split())"
   ]
  },
  {
   "cell_type": "code",
   "execution_count": 27,
   "metadata": {},
   "outputs": [],
   "source": [
    "tweets_lengths = []\n",
    "for user_id in user_tweets_map:\n",
    "    tweets_data = user_tweets_map[user_id]['results']\n",
    "    \n",
    "    for tweet in tweets_data:\n",
    "        tweets_lengths.append(len(tweet['text'].split()))"
   ]
  },
  {
   "cell_type": "code",
   "execution_count": 28,
   "metadata": {},
   "outputs": [
    {
     "data": {
      "text/plain": [
       "216111"
      ]
     },
     "execution_count": 28,
     "metadata": {},
     "output_type": "execute_result"
    }
   ],
   "source": [
    "len(tweets_lengths)"
   ]
  },
  {
   "cell_type": "code",
   "execution_count": 29,
   "metadata": {},
   "outputs": [
    {
     "data": {
      "text/plain": [
       "(7.130631943769637, 3.0, 6.906577762115752, 1, 59)"
      ]
     },
     "execution_count": 29,
     "metadata": {},
     "output_type": "execute_result"
    }
   ],
   "source": [
    "np.mean(tweets_lengths), np.median(tweets_lengths), np.std(tweets_lengths), np.min(tweets_lengths), np.max(tweets_lengths)"
   ]
  },
  {
   "cell_type": "code",
   "execution_count": null,
   "metadata": {},
   "outputs": [],
   "source": []
  },
  {
   "cell_type": "code",
   "execution_count": 30,
   "metadata": {},
   "outputs": [
    {
     "data": {
      "text/plain": [
       "(1, 1, 142, 17361, 61731, 96523)"
      ]
     },
     "execution_count": 30,
     "metadata": {},
     "output_type": "execute_result"
    }
   ],
   "source": [
    "more_than_50 = [t for t in tweets_lengths if t >=50]\n",
    "more_than_40 = [t for t in tweets_lengths if t >=40]\n",
    "more_than_30 = [t for t in tweets_lengths if t >=30]\n",
    "more_than_20 = [t for t in tweets_lengths if t >=20]\n",
    "more_than_10 = [t for t in tweets_lengths if t >=10]\n",
    "more_than_5 = [t for t in tweets_lengths if t >=5]\n",
    "\n",
    "len(more_than_50), len(more_than_40), len(more_than_30), len(more_than_20), len(more_than_10), len(more_than_5)"
   ]
  },
  {
   "cell_type": "code",
   "execution_count": null,
   "metadata": {},
   "outputs": [],
   "source": []
  },
  {
   "cell_type": "code",
   "execution_count": null,
   "metadata": {},
   "outputs": [],
   "source": []
  },
  {
   "cell_type": "code",
   "execution_count": null,
   "metadata": {},
   "outputs": [],
   "source": []
  },
  {
   "cell_type": "code",
   "execution_count": null,
   "metadata": {},
   "outputs": [],
   "source": []
  },
  {
   "cell_type": "markdown",
   "metadata": {},
   "source": [
    "## END"
   ]
  },
  {
   "cell_type": "code",
   "execution_count": null,
   "metadata": {},
   "outputs": [],
   "source": []
  },
  {
   "cell_type": "code",
   "execution_count": null,
   "metadata": {},
   "outputs": [],
   "source": []
  },
  {
   "cell_type": "code",
   "execution_count": 41,
   "metadata": {},
   "outputs": [
    {
     "name": "stdout",
     "output_type": "stream",
     "text": [
      "(Tue Sep 03 17:04:23 +0000 2019) b'CAMP MARS MALIBU THIS WEEKEND!!! Whos coming to celebrate 10 years of THIS IS WAR with us?  https://t.co/O1r4Na2T2h'\n",
      "(Sun Sep 01 16:00:01 +0000 2019) b' https://t.co/bjPa2TjDjO'\n",
      "(Sat Aug 31 16:05:36 +0000 2019) b' https://t.co/QYafM7GBr9'\n",
      "(Sat Aug 31 01:18:34 +0000 2019) b' https://t.co/EuOkech6xx'\n",
      "(Wed Aug 28 17:21:52 +0000 2019) b'  https://t.co/ju5htWnAaW'\n",
      "(Tue Aug 27 16:25:32 +0000 2019) b'Someone on Mars loves me\\n\\nhttps://t.co/JZ1ivXCX1Y https://t.co/Qs4BmhYLJY'\n",
      "(Mon Aug 26 20:54:38 +0000 2019) b'Pre-show ritual https://t.co/0uXff8dXl2'\n",
      "(Mon Aug 26 16:51:03 +0000 2019) b' https://t.co/CQDcmBtK5C'\n",
      "(Sat Aug 24 17:27:58 +0000 2019) b'\\n\\n.@GQSpain \\n@gucci \\nAlessandro Michele\\n Cameron McCool https://t.co/xrq8HmoZ0P'\n",
      "(Fri Aug 23 16:31:49 +0000 2019) b\"Who's a good boy? \\n\\n Alessandro Michele https://t.co/0WKnuY6OAQ\"\n",
      "(Thu Aug 22 23:00:43 +0000 2019) b\"It's been two years since #WalkOnWater came out. years of sharing and singing this song all over the world. Mind https://t.co/06zCpCalsJ\"\n",
      "(Thu Aug 22 19:36:20 +0000 2019) b'.@GQSpain \\n@gucci \\nAlessandro Michele\\n Cameron McCool https://t.co/ypH0tYZg1a'\n",
      "(Wed Aug 21 17:06:45 +0000 2019) b'The way your parents look at you when you sneak in past your curfew https://t.co/XPMt1EGyGU'\n",
      "(Tue Aug 20 20:02:59 +0000 2019) b'#hotgirlsummer https://t.co/xAAdY3iVBz'\n",
      "(Tue Aug 20 00:09:48 +0000 2019) b'PTD #posttourdepression  https://t.co/eYgrs2Q0To'\n",
      "(Sun Aug 18 22:14:53 +0000 2019) b'Ready for battle https://t.co/oiemu5pF8P'\n",
      "(Sun Aug 18 00:28:39 +0000 2019) b'All good things must come to an end  \\n\\n credit unknown https://t.co/yMvypDL3Ez'\n",
      "(Fri Aug 16 23:47:32 +0000 2019) b'Justmore show left https://t.co/w2eaACeMLn'\n",
      "(Fri Aug 16 13:31:09 +0000 2019) b'RT @washingtonpost: Exclusive: More than a century of temperature data examined by The Post reveals the fastest-warming places in the Unite'\n",
      "(Thu Aug 15 22:52:37 +0000 2019) b\"I'm a ghost https://t.co/UnG3lZ98vg\"\n",
      "(Fri Aug 09 21:23:07 +0000 2019) b'Day 1 #MarsIsland  #LiveLikeADream https://t.co/e9rzLSIuwB'\n",
      "(Thu Aug 08 16:32:32 +0000 2019) b'https://t.co/irZorP4x1R'\n",
      "(Wed Aug 07 18:46:24 +0000 2019) b'Throwback. Are you gonna stay the night?\\n\\n@Zedd https://t.co/sjsn3W1AkJ'\n",
      "(Mon Aug 05 21:01:20 +0000 2019) b' https://t.co/XCYGpts9Nw'\n",
      "(Mon Aug 05 00:11:36 +0000 2019) b' https://t.co/t8SkPHhu7V'\n",
      "(Sun Aug 04 17:39:32 +0000 2019) b'https://t.co/J28dnt5Flj'\n",
      "(Thu Aug 01 16:20:33 +0000 2019) b'A friend asked me - so Im asking you. What do you want your future to be?  #livelikeadream https://t.co/alpilWP7UJ'\n",
      "(Thu Aug 01 00:20:00 +0000 2019) b'https://t.co/7UFeehHdJh'\n",
      "(Sat Jul 27 15:30:45 +0000 2019) b'Old town Leto  @LilNasX @billyraycyrus https://t.co/CUEyEDke8l'\n",
      "(Thu Jul 25 17:32:58 +0000 2019) b'Poland  https://t.co/czX06Y56U1'\n",
      "(Wed Jul 24 21:10:54 +0000 2019) b'Cant wait for Mars Island!    https://t.co/jph6mDyXX6'\n",
      "(Tue Jul 23 16:32:57 +0000 2019) b'Its not pink its pomegranate  #marshawk #thisiswar https://t.co/tz136KThtF'\n",
      "(Mon Jul 22 21:39:41 +0000 2019) b'What a dangerous night to fall in  https://t.co/HYVpCAiZWO'\n",
      "(Sun Jul 21 18:28:27 +0000 2019) b'While everyones at Area 51 Im sneaking into Area 52 like  #area52 #truth https://t.co/tb2yielrCW'\n",
      "(Sat Jul 20 21:52:18 +0000 2019) b' #mood #gameofthrones https://t.co/eWStr6qX2g'\n",
      "(Thu Jul 18 00:26:13 +0000 2019) b' https://t.co/KmpNWKqYQf'\n",
      "(Tue Jul 16 15:28:59 +0000 2019) b'#sideboob https://t.co/PbgvBx09B6'\n",
      "(Thu Jul 11 04:14:15 +0000 2019) b'Iask a lot of questions. And I love to learn. So investing in technology for me has been a way to challenge mysel https://t.co/MX7AYXRr4d'\n",
      "(Fri Jul 05 01:46:22 +0000 2019) b'Today we celebrate the birthday of America and the anniversary of A Day in the Life of America. 92 camera crews, 50 https://t.co/vxRs7Mb43s'\n",
      "(Sat Jun 29 16:44:56 +0000 2019) b'RT @MARSStore: 48 HOURS ONLY- EXCLUSIVE TOUR MERCH ON SALE! \\nShop the Europe Tour 2019 merch collection online here: https://t.co/xmtKntreH'\n",
      "(Fri May 24 02:44:01 +0000 2019) b'RT @mamoonha: Jared Leto knows more about mental health than most.   Excited to have him join us at Modern Health. \\n\\nModern Health just ra'\n",
      "(Thu May 23 06:00:16 +0000 2019) b'Check out the amazing trailer for @TheArtOfRacing! You may hear a familiar song #GWO  https://t.co/A3pqVkI3x7'\n",
      "(Thu May 23 05:50:07 +0000 2019) b'RT @MARSStore: The GOD SEX DRUGS NEW LONG SLEEVE is now shipping! Complete your AMERICA collection with the latest addition! Shop now: http'\n",
      "(Mon May 13 18:35:27 +0000 2019) b'https://t.co/2SNWyXgA9d'\n",
      "(Sun May 12 18:26:55 +0000 2019) b'Thank you for teaching me to dream. #HappyMothersDay https://t.co/otXLfwr5UN'\n",
      "(Fri May 03 01:51:09 +0000 2019) b'VOTE NOW! Download the Tribeca Film Festival app to vote for our film A Day in the Life of America for the Tribeca https://t.co/5sZWZNibVS'\n",
      "(Thu May 02 19:25:04 +0000 2019) b'#GucciGang #TBT #MetGala https://t.co/alSwGpwYCO'\n",
      "(Tue Apr 30 21:57:13 +0000 2019) b\"RT @30SECONDSTOMARS: Who's ready for Camp Mars? Link to tickets: https://t.co/mhMEDsRk2j https://t.co/NBdrkNZ4Xn\"\n",
      "(Tue Apr 30 16:43:31 +0000 2019) b'Chatted with @Deadline about \"A Day in the Life of America\" at #Tribeca2019 https://t.co/ncZlGGKJrT https://t.co/aYpUJHeImo'\n",
      "(Mon Apr 29 19:03:25 +0000 2019) b'Favorite day of the year. #InternationalDanceDay https://t.co/9oSlaeik5C'\n",
      "(Sun Apr 28 00:23:55 +0000 2019) b'RT @THR: #Tribeca: Jared Leto talks depicting \"this crazy nation of ours\" in directorial debut https://t.co/ClvjrN7Pds https://t.co/U7UbX91'\n",
      "(Sat Apr 27 19:34:35 +0000 2019) b' A Day in the Life of America #Tribeca2019 https://t.co/oV2iBde3XF'\n",
      "(Sat Apr 27 19:29:04 +0000 2019) b'Here we go! A Day in the Life America #Tribeca2019 https://t.co/E5U25m4Xd9'\n",
      "(Thu Apr 25 23:03:25 +0000 2019) b'I dont know what happened...I came in to buy one thing  https://t.co/szP1ohtni1'\n",
      "(Tue Apr 23 16:50:04 +0000 2019) b'thank you, next #dadbod @ArianaGrande @MorbiusMovie  https://t.co/CRhTv756EJ'\n",
      "(Mon Apr 22 18:32:37 +0000 2019) b'We lost the map #EarthDay https://t.co/qWzdj7MGrN'\n",
      "(Sat Apr 20 16:32:58 +0000 2019) b' https://t.co/e9srKu8RdJ'\n",
      "(Thu Apr 18 18:31:45 +0000 2019) b'Who wants to hire me for a gender reveal?! https://t.co/ODIpq8E1Gg'\n",
      "(Tue Apr 16 16:34:27 +0000 2019) b\"Can't wait to take the stage again this summer! Whos coming to see us?! #Echelon https://t.co/Rb6qNreSBs\"\n",
      "(Sun Apr 14 16:54:55 +0000 2019) b'Confession: Im seven seasons behind on #GameofThrones... https://t.co/hL4EkmVpvM'\n",
      "(Sat Apr 13 17:52:58 +0000 2019) b'Weekend plans. https://t.co/hlYWXQc7aB'\n",
      "(Sat Apr 13 16:16:06 +0000 2019) b\"RT @MARSStore: To celebrate #RecordStoreDay2019 we're giving away 3 SIGNED COPIES OF THE AMERICA VINYL! To enter: comment with which MARS v\"\n",
      "(Thu Apr 11 16:55:32 +0000 2019) b'Am I doing this right?  #NationalPetDay https://t.co/oI2ELsaMWv'\n",
      "(Wed Apr 10 21:29:45 +0000 2019) b'These two brothers want to see YOU at #CampMars! #NationalSiblingsDay https://t.co/un5msPDJhB https://t.co/Rf9t7Yp4Sp'\n",
      "(Wed Apr 10 18:37:14 +0000 2019) b'Thank you for sharing this MARS life with me. Couldnt do it without you. #NationalSiblingsDay https://t.co/Asn7otMbUZ'\n",
      "(Tue Apr 09 21:22:52 +0000 2019) b'I do it all for you #Echelon https://t.co/tnEo0VLOV4 https://t.co/oHIIrezYaz'\n",
      "(Tue Apr 09 16:29:33 +0000 2019) b'Should have worn gloves. https://t.co/hR1p3r87RP'\n",
      "(Mon Apr 08 22:32:30 +0000 2019) b'Loving the #Echelon collab on this. Available for pre-order now: https://t.co/ay5kQa1hpg https://t.co/tkUzCOnA9y'\n",
      "(Mon Apr 08 19:36:25 +0000 2019) b\"I'm answering a few questions about #CampMars on IG Stories RIGHT NOW. --&gt; https://t.co/jQJfyNcwNy https://t.co/b2Iiyx7peV\"\n",
      "(Sat Apr 06 16:44:34 +0000 2019) b'AMERICA \\nONE YEAR \\nANNIVERSARY \\n4.6.19\\nhttps://t.co/N8HVqfe7ga https://t.co/5FoCzNkdTx'\n",
      "(Fri Apr 05 19:45:52 +0000 2019) b'Happy Bday This Is War. Come hear the album live at #CampMars Malibu. September 7-9. \\nTIX ON SALE NOW! https://t.co/KyrtEGTU5w'\n",
      "(Fri Apr 05 18:32:47 +0000 2019) b'@MeganAmy22 Fixed! Try it now --&gt; https://t.co/un5msPDJhB'\n",
      "(Fri Apr 05 18:29:31 +0000 2019) b'@Schenk1Girl Should be fixed now!  https://t.co/un5msPDJhB'\n",
      "(Fri Apr 05 18:25:03 +0000 2019) b'@SelfieShanNow Give it a try now -&gt; https://t.co/un5msPDJhB'\n",
      "(Fri Apr 05 18:22:57 +0000 2019) b'International ticketing issues for #CampMars should be fixed now. https://t.co/un5msPDJhB'\n",
      "(Fri Apr 05 18:06:57 +0000 2019) b\"Hey #Echelon we're working on fixing the issue with purchasing tickets for #CampMars from outside of the US. Hang tight!\"\n",
      "(Fri Apr 05 17:16:33 +0000 2019) b'Last #CampMars was pretty epic. Just wait until you see what we have in store this year.Tix on sale now --&gt; https://t.co/DDl5xrOS0i'\n",
      "(Thu Apr 04 19:40:34 +0000 2019) b'Because no one else will walk this path...this place of shadows, where we do what must be done, no matter the cost. https://t.co/giA4eit8a8'\n",
      "(Wed Apr 03 21:37:58 +0000 2019) b'A lot of things happened 10 years ago, including this haircut  https://t.co/PFnIWZlGRm'\n",
      "(Wed Apr 03 19:41:22 +0000 2019) b'10 years since we dropped This is War... I hope we can remember all of it for you guys at #CampMars in Malibu.  https://t.co/ahryLOSVHu'\n",
      "(Tue Apr 02 19:36:05 +0000 2019) b'Cant wait to see you guys. #CampMarsMalibu https://t.co/8Bs8lBKCAL'\n",
      "(Tue Apr 02 16:20:54 +0000 2019) b'IT. IS. HAPPENING.  #CampMars September 7-9. Malibu. Tix on sale Friday. https://t.co/zcZGz7Ktgd https://t.co/7E6KakPJMM'\n",
      "(Tue Apr 02 15:06:28 +0000 2019) b'Hello, #Echelon! https://t.co/2cj7w9PlKu'\n",
      "(Mon Apr 01 15:45:12 +0000 2019) b'Nothing to see here.  https://t.co/IMybsPDfLP'\n",
      "(Sun Mar 31 17:56:22 +0000 2019) b'Fueling up.  #Morbius https://t.co/kkkCG77Ous'\n",
      "(Thu Mar 28 17:02:14 +0000 2019) b'Throwback to The Beard  https://t.co/5sJpsW0Aj0'\n",
      "(Wed Mar 27 16:09:57 +0000 2019) b'Reflecting  on everything that Ive had the opportunity to work on and feeling incredibly grateful.  https://t.co/uCagwIaBtV'\n",
      "(Wed Mar 27 00:56:05 +0000 2019) b'@TomHolland1996 my absolute pleasure'\n",
      "(Tue Mar 26 17:20:32 +0000 2019) b'My A Day in the Life of America docu will premiere at the@Tribeca Film Festival. A lot of hard work went into ma https://t.co/trF5dW9KF8'\n",
      "(Mon Mar 25 19:05:37 +0000 2019) b'That one time we really put Postmates to the test.  https://t.co/yC2tmAssGo'\n",
      "(Sat Mar 23 21:06:57 +0000 2019) b'Thank You #Echelon for the great call! Excited to see you all at #MarsIsland  Polls coming soon! https://t.co/nJUk7EMwUC'\n",
      "(Fri Mar 22 16:36:54 +0000 2019) b'Cant find my phone charger  https://t.co/5UpcQerWnK'\n",
      "(Tue Mar 19 21:37:22 +0000 2019) b'Im hosting the biggest conference call of all time* on March 23 for #MarsIsland ticket holders. Are you one of the https://t.co/P3tIJSH4kK'\n",
      "(Mon Mar 18 17:57:06 +0000 2019) b'When Google accurately predicts what Im searching for https://t.co/W8vbpCRNfa'\n",
      "(Fri Mar 15 21:16:38 +0000 2019) b'Looking for valet like... https://t.co/s5hGZAmOJe'\n",
      "(Thu Mar 14 16:59:15 +0000 2019) b'Me everytime Netflix asks if Im still watching... yes Netflix, I am still watching https://t.co/Y8fZQ8llog'\n",
      "(Wed Mar 06 20:37:30 +0000 2019) b'Excited to announce A Day in the Life of America will premiere at the 2019 @Tribeca Film Festival. Tix on sale Marc https://t.co/m7wT4DBpml'\n",
      "(Tue Mar 05 17:24:17 +0000 2019) b'1 week down...11 to go...\\nGet Ready \\n#MORBIUS @MorbiusMovie https://t.co/3Tm9CGGKFz'\n",
      "(Thu Feb 21 08:24:19 +0000 2019) b'Thank you to The Brit Awards for having me last night! https://t.co/CN2Z6weLsW'\n",
      "(Tue Feb 19 21:19:52 +0000 2019) b'RT @THR: Seemingly superhuman climber @AlexHonnold and @JaredLeto hit the rock wall with #FreeSolo co-director (and #Oscars nominee) @jimkc'\n"
     ]
    }
   ],
   "source": [
    "for status in results:\n",
    "    print(\"(%s) %s\" % (status[\"created_at\"], status[\"text\"].encode(\"ascii\", \"ignore\")))"
   ]
  },
  {
   "cell_type": "code",
   "execution_count": null,
   "metadata": {},
   "outputs": [],
   "source": [
    "# run"
   ]
  },
  {
   "cell_type": "code",
   "execution_count": 9,
   "metadata": {},
   "outputs": [],
   "source": [
    "import csv\n",
    "import pandas as pd\n",
    "import numpy as np"
   ]
  },
  {
   "cell_type": "code",
   "execution_count": 15,
   "metadata": {},
   "outputs": [],
   "source": [
    "data=pd.read_csv('data.csv',encoding=\"latin-1\")"
   ]
  },
  {
   "cell_type": "code",
   "execution_count": 23,
   "metadata": {},
   "outputs": [
    {
     "data": {
      "text/html": [
       "<div>\n",
       "<style scoped>\n",
       "    .dataframe tbody tr th:only-of-type {\n",
       "        vertical-align: middle;\n",
       "    }\n",
       "\n",
       "    .dataframe tbody tr th {\n",
       "        vertical-align: top;\n",
       "    }\n",
       "\n",
       "    .dataframe thead th {\n",
       "        text-align: right;\n",
       "    }\n",
       "</style>\n",
       "<table border=\"1\" class=\"dataframe\">\n",
       "  <thead>\n",
       "    <tr style=\"text-align: right;\">\n",
       "      <th></th>\n",
       "      <th>user_id</th>\n",
       "      <th>_trusted_judgments</th>\n",
       "      <th>gender:confidence</th>\n",
       "      <th>profile_yn:confidence</th>\n",
       "      <th>fav_number</th>\n",
       "      <th>retweet_count</th>\n",
       "      <th>tweet_count</th>\n",
       "      <th>tweet_id</th>\n",
       "    </tr>\n",
       "  </thead>\n",
       "  <tbody>\n",
       "    <tr>\n",
       "      <th>count</th>\n",
       "      <td>2.005000e+04</td>\n",
       "      <td>20050.000000</td>\n",
       "      <td>20024.000000</td>\n",
       "      <td>20050.000000</td>\n",
       "      <td>20050.000000</td>\n",
       "      <td>20050.000000</td>\n",
       "      <td>2.005000e+04</td>\n",
       "      <td>2.005000e+04</td>\n",
       "    </tr>\n",
       "    <tr>\n",
       "      <th>mean</th>\n",
       "      <td>8.157294e+08</td>\n",
       "      <td>3.615711</td>\n",
       "      <td>0.882756</td>\n",
       "      <td>0.993221</td>\n",
       "      <td>4382.201646</td>\n",
       "      <td>0.079401</td>\n",
       "      <td>3.892469e+04</td>\n",
       "      <td>6.590000e+17</td>\n",
       "    </tr>\n",
       "    <tr>\n",
       "      <th>std</th>\n",
       "      <td>6.000801e+03</td>\n",
       "      <td>12.331890</td>\n",
       "      <td>0.191403</td>\n",
       "      <td>0.047168</td>\n",
       "      <td>12518.575919</td>\n",
       "      <td>2.649751</td>\n",
       "      <td>1.168371e+05</td>\n",
       "      <td>1.536038e+05</td>\n",
       "    </tr>\n",
       "    <tr>\n",
       "      <th>min</th>\n",
       "      <td>8.157192e+08</td>\n",
       "      <td>3.000000</td>\n",
       "      <td>0.000000</td>\n",
       "      <td>0.627200</td>\n",
       "      <td>0.000000</td>\n",
       "      <td>0.000000</td>\n",
       "      <td>1.000000e+00</td>\n",
       "      <td>6.590000e+17</td>\n",
       "    </tr>\n",
       "    <tr>\n",
       "      <th>25%</th>\n",
       "      <td>8.157243e+08</td>\n",
       "      <td>3.000000</td>\n",
       "      <td>0.677800</td>\n",
       "      <td>1.000000</td>\n",
       "      <td>11.000000</td>\n",
       "      <td>0.000000</td>\n",
       "      <td>2.398000e+03</td>\n",
       "      <td>6.590000e+17</td>\n",
       "    </tr>\n",
       "    <tr>\n",
       "      <th>50%</th>\n",
       "      <td>8.157294e+08</td>\n",
       "      <td>3.000000</td>\n",
       "      <td>1.000000</td>\n",
       "      <td>1.000000</td>\n",
       "      <td>456.000000</td>\n",
       "      <td>0.000000</td>\n",
       "      <td>1.144150e+04</td>\n",
       "      <td>6.590000e+17</td>\n",
       "    </tr>\n",
       "    <tr>\n",
       "      <th>75%</th>\n",
       "      <td>8.157345e+08</td>\n",
       "      <td>3.000000</td>\n",
       "      <td>1.000000</td>\n",
       "      <td>1.000000</td>\n",
       "      <td>3315.500000</td>\n",
       "      <td>0.000000</td>\n",
       "      <td>4.002750e+04</td>\n",
       "      <td>6.590000e+17</td>\n",
       "    </tr>\n",
       "    <tr>\n",
       "      <th>max</th>\n",
       "      <td>8.157580e+08</td>\n",
       "      <td>274.000000</td>\n",
       "      <td>1.000000</td>\n",
       "      <td>1.000000</td>\n",
       "      <td>341621.000000</td>\n",
       "      <td>330.000000</td>\n",
       "      <td>2.680199e+06</td>\n",
       "      <td>6.590000e+17</td>\n",
       "    </tr>\n",
       "  </tbody>\n",
       "</table>\n",
       "</div>"
      ],
      "text/plain": [
       "            user_id  _trusted_judgments  gender:confidence  \\\n",
       "count  2.005000e+04        20050.000000       20024.000000   \n",
       "mean   8.157294e+08            3.615711           0.882756   \n",
       "std    6.000801e+03           12.331890           0.191403   \n",
       "min    8.157192e+08            3.000000           0.000000   \n",
       "25%    8.157243e+08            3.000000           0.677800   \n",
       "50%    8.157294e+08            3.000000           1.000000   \n",
       "75%    8.157345e+08            3.000000           1.000000   \n",
       "max    8.157580e+08          274.000000           1.000000   \n",
       "\n",
       "       profile_yn:confidence     fav_number  retweet_count   tweet_count  \\\n",
       "count           20050.000000   20050.000000   20050.000000  2.005000e+04   \n",
       "mean                0.993221    4382.201646       0.079401  3.892469e+04   \n",
       "std                 0.047168   12518.575919       2.649751  1.168371e+05   \n",
       "min                 0.627200       0.000000       0.000000  1.000000e+00   \n",
       "25%                 1.000000      11.000000       0.000000  2.398000e+03   \n",
       "50%                 1.000000     456.000000       0.000000  1.144150e+04   \n",
       "75%                 1.000000    3315.500000       0.000000  4.002750e+04   \n",
       "max                 1.000000  341621.000000     330.000000  2.680199e+06   \n",
       "\n",
       "           tweet_id  \n",
       "count  2.005000e+04  \n",
       "mean   6.590000e+17  \n",
       "std    1.536038e+05  \n",
       "min    6.590000e+17  \n",
       "25%    6.590000e+17  \n",
       "50%    6.590000e+17  \n",
       "75%    6.590000e+17  \n",
       "max    6.590000e+17  "
      ]
     },
     "execution_count": 23,
     "metadata": {},
     "output_type": "execute_result"
    }
   ],
   "source": [
    "\n",
    "data.describe()"
   ]
  },
  {
   "cell_type": "code",
   "execution_count": null,
   "metadata": {},
   "outputs": [],
   "source": []
  }
 ],
 "metadata": {
  "kernelspec": {
   "display_name": "Python 3",
   "language": "python",
   "name": "python3"
  },
  "language_info": {
   "codemirror_mode": {
    "name": "ipython",
    "version": 3
   },
   "file_extension": ".py",
   "mimetype": "text/x-python",
   "name": "python",
   "nbconvert_exporter": "python",
   "pygments_lexer": "ipython3",
   "version": "3.6.5"
  }
 },
 "nbformat": 4,
 "nbformat_minor": 2
}
